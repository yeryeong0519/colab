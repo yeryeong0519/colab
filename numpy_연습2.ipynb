{
  "nbformat": 4,
  "nbformat_minor": 0,
  "metadata": {
    "colab": {
      "provenance": [],
      "include_colab_link": true
    },
    "kernelspec": {
      "name": "python3",
      "display_name": "Python 3"
    },
    "language_info": {
      "name": "python"
    }
  },
  "cells": [
    {
      "cell_type": "markdown",
      "metadata": {
        "id": "view-in-github",
        "colab_type": "text"
      },
      "source": [
        "<a href=\"https://colab.research.google.com/github/yeryeong0519/myrepo/blob/master/numpy_%EC%97%B0%EC%8A%B52.ipynb\" target=\"_parent\"><img src=\"https://colab.research.google.com/assets/colab-badge.svg\" alt=\"Open In Colab\"/></a>"
      ]
    },
    {
      "cell_type": "markdown",
      "source": [
        "아래 문제들은 결과 출력까지 실행 후 ipynb  파일과 .py 파일로 제출  \n",
        "print(b)의 결과가 다음과 같이 되는 code를 작성하시오..  \n",
        "b는 a를 이용하여 정의 함.   "
      ],
      "metadata": {
        "id": "vydh4AaATqYd"
      }
    },
    {
      "cell_type": "markdown",
      "source": [
        "1.   \n",
        "[[ 0  1  2  3  4  5  6  7  8  9 10 11 12 13 14 15]]\n"
      ],
      "metadata": {
        "id": "oaQJW-vjZYqp"
      }
    },
    {
      "cell_type": "code",
      "source": [
        "import numpy as np\n",
        "a=np.arange(16)\n",
        "\n",
        "b=\n",
        "\n",
        "print(a)\n",
        "print(b)"
      ],
      "metadata": {
        "id": "s7WN7jUqZcjd"
      },
      "execution_count": null,
      "outputs": []
    },
    {
      "cell_type": "markdown",
      "source": [
        "2.   \n",
        "[  [ 0  1  2  3  4  5  6  7]  \n",
        "   [ 8  9 10 11 12 13 14 15]  ]\n"
      ],
      "metadata": {
        "id": "D5qqUBjKZqsG"
      }
    },
    {
      "cell_type": "code",
      "source": [
        "import numpy as np\n",
        "a=np.arange(16)\n",
        "b=\n",
        "\n",
        "\n",
        "print(a)\n",
        "print(b)"
      ],
      "metadata": {
        "id": "JspbrxxJZnqY"
      },
      "execution_count": null,
      "outputs": []
    },
    {
      "cell_type": "markdown",
      "source": [
        "3.\n",
        " \n",
        "[ [ [ 0  1]  \n",
        "    [ 2  3]  \n",
        "    [ 4  5]  \n",
        "    [ 6  7]  \n",
        "    [ 8  9]  \n",
        "    [10 11]  \n",
        "    [12 13]  \n",
        "    [14 15]]  ]  "
      ],
      "metadata": {
        "id": "592OJ3VlSerQ"
      }
    },
    {
      "cell_type": "code",
      "source": [
        "import numpy as np\n",
        "a=np.arange(16)\n",
        "b=\n",
        "\n",
        "print(a)\n",
        "print(b)"
      ],
      "metadata": {
        "id": "jZvIdvJDOyVY"
      },
      "execution_count": null,
      "outputs": []
    },
    {
      "cell_type": "markdown",
      "source": [
        "4. \n",
        "\n",
        "[ [[ 0]  \n",
        "   [ 1]  \n",
        "   [ 2]]  \n",
        "\n",
        " [ [ 3]  \n",
        "   [ 4]  \n",
        "   [ 5] ]  \n",
        "\n",
        " [ [ 6]  \n",
        "   [ 7]  \n",
        "   [ 8]  ]  \n",
        "\n",
        " [ [ 9]  \n",
        "   [10]  \n",
        "   [11] ] ]  \n"
      ],
      "metadata": {
        "id": "ajWBo2VXawqL"
      }
    },
    {
      "cell_type": "code",
      "source": [
        "import numpy as np\n",
        "a=np.arange(12)\n",
        "b=\n",
        "\n",
        "print(a)\n",
        "print(b)"
      ],
      "metadata": {
        "id": "pgi78cfkZ6NS"
      },
      "execution_count": null,
      "outputs": []
    },
    {
      "cell_type": "markdown",
      "source": [
        "5. [8]  \n",
        "\n"
      ],
      "metadata": {
        "id": "ZVFhVdHiXGs5"
      }
    },
    {
      "cell_type": "code",
      "source": [
        "import numpy as np\n",
        "a=np.array([[1,2,3,4],[5,6,7,8],[9,10,11,12]])\n",
        "b=\n",
        "print(b)"
      ],
      "metadata": {
        "id": "Rtng0qrqXXy8",
        "colab": {
          "base_uri": "https://localhost:8080/",
          "height": 132
        },
        "outputId": "ee87b6d7-3328-438a-cac4-bb791a8f3f46"
      },
      "execution_count": null,
      "outputs": [
        {
          "output_type": "error",
          "ename": "SyntaxError",
          "evalue": "ignored",
          "traceback": [
            "\u001b[0;36m  File \u001b[0;32m\"<ipython-input-13-5dd469998a73>\"\u001b[0;36m, line \u001b[0;32m3\u001b[0m\n\u001b[0;31m    b=\u001b[0m\n\u001b[0m      ^\u001b[0m\n\u001b[0;31mSyntaxError\u001b[0m\u001b[0;31m:\u001b[0m invalid syntax\n"
          ]
        }
      ]
    }
  ]
}