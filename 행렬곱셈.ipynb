{
  "nbformat": 4,
  "nbformat_minor": 0,
  "metadata": {
    "colab": {
      "provenance": [],
      "authorship_tag": "ABX9TyNgsvaOjWiLT5GSgBGnW2A0",
      "include_colab_link": true
    },
    "kernelspec": {
      "name": "python3",
      "display_name": "Python 3"
    },
    "language_info": {
      "name": "python"
    }
  },
  "cells": [
    {
      "cell_type": "markdown",
      "metadata": {
        "id": "view-in-github",
        "colab_type": "text"
      },
      "source": [
        "<a href=\"https://colab.research.google.com/github/yeryeong0519/colab/blob/master/%ED%96%89%EB%A0%AC%EA%B3%B1%EC%85%88.ipynb\" target=\"_parent\"><img src=\"https://colab.research.google.com/assets/colab-badge.svg\" alt=\"Open In Colab\"/></a>"
      ]
    },
    {
      "cell_type": "code",
      "execution_count": null,
      "metadata": {
        "colab": {
          "base_uri": "https://localhost:8080/"
        },
        "id": "B_txTcceYuP9",
        "outputId": "f5ec931a-e8d1-40c1-d72a-44d78aa0913c"
      },
      "outputs": [
        {
          "output_type": "stream",
          "name": "stdout",
          "text": [
            "[0 6]\n",
            "[9 8]\n",
            "[12  8]\n",
            "[6 1]\n",
            "[9 8]\n"
          ]
        }
      ],
      "source": [
        "#5-1\n",
        "import numpy as np\n",
        "\n",
        "W=np.array([1, 2])\n",
        "X=np.array([0,3])\n",
        "\n",
        "print(W*X)\n",
        "\n",
        "#5-2\n",
        "\n",
        "W=np.array([[1, 2] ,[0, 4]])\n",
        "X=np.array([5, 2])\n",
        "\n",
        "print(np.dot(W, X))\n",
        "\n",
        "#5-3\n",
        "\n",
        "W=np.array([[7, 3] ,[1, 2]])\n",
        "X=np.array([0, 4])\n",
        "\n",
        "print(np.dot(W, X))\n",
        "#5-4\n",
        "\n",
        "W=np.array([3, 1])\n",
        "X=np.array([2,1])\n",
        "\n",
        "print(W*X)\n",
        "\n",
        "\n",
        "#5-5\n",
        "\n",
        "W=np.array([[1, 2] ,[0, 4]])\n",
        "X=np.array([5, 2])\n",
        "\n",
        "print(np.dot(W, X))"
      ]
    }
  ]
}